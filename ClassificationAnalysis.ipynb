{
 "cells": [
  {
   "cell_type": "code",
   "execution_count": 1,
   "id": "697fd6c8",
   "metadata": {},
   "outputs": [],
   "source": [
    "# Loading the Data into the Notebook"
   ]
  },
  {
   "cell_type": "code",
   "execution_count": 2,
   "id": "4d067842",
   "metadata": {},
   "outputs": [],
   "source": [
    "import csv\n",
    "import pandas"
   ]
  },
  {
   "cell_type": "code",
   "execution_count": 3,
   "id": "4fd7c892",
   "metadata": {},
   "outputs": [],
   "source": [
    "from sklearn.datasets import fetch_openml"
   ]
  },
  {
   "cell_type": "code",
   "execution_count": 4,
   "id": "95e6712b",
   "metadata": {},
   "outputs": [],
   "source": [
    "biodegs = fetch_openml(name = 'qsar-biodeg')"
   ]
  },
  {
   "cell_type": "code",
   "execution_count": null,
   "id": "c9585dfe",
   "metadata": {
    "tags": []
   },
   "outputs": [],
   "source": []
  },
  {
   "cell_type": "code",
   "execution_count": 5,
   "id": "60b7c195",
   "metadata": {},
   "outputs": [],
   "source": [
    "# Split Data into Test and Train Sets"
   ]
  },
  {
   "cell_type": "code",
   "execution_count": 6,
   "id": "264ab75e",
   "metadata": {},
   "outputs": [],
   "source": [
    "from sklearn.model_selection import train_test_split"
   ]
  },
  {
   "cell_type": "code",
   "execution_count": 7,
   "id": "f41d9900",
   "metadata": {},
   "outputs": [],
   "source": [
    "X_train, X_test, y_train, y_test = train_test_split(biodegs.data, biodegs.target, random_state=20)"
   ]
  },
  {
   "cell_type": "code",
   "execution_count": null,
   "id": "e3e37809",
   "metadata": {
    "tags": []
   },
   "outputs": [],
   "source": []
  },
  {
   "cell_type": "code",
   "execution_count": 8,
   "id": "4ac09442",
   "metadata": {},
   "outputs": [],
   "source": [
    "# Initialize K-Nearest Neighbors"
   ]
  },
  {
   "cell_type": "code",
   "execution_count": 9,
   "id": "174e9a46",
   "metadata": {},
   "outputs": [],
   "source": [
    "from sklearn.neighbors import KNeighborsClassifier"
   ]
  },
  {
   "cell_type": "code",
   "execution_count": 10,
   "id": "3e083aba",
   "metadata": {},
   "outputs": [],
   "source": [
    "knn1 = KNeighborsClassifier()"
   ]
  },
  {
   "cell_type": "code",
   "execution_count": 11,
   "id": "7328782f",
   "metadata": {},
   "outputs": [
    {
     "data": {
      "text/plain": [
       "KNeighborsClassifier()"
      ]
     },
     "execution_count": 11,
     "metadata": {},
     "output_type": "execute_result"
    }
   ],
   "source": [
    "knn1.fit(X=X_train,y=y_train)"
   ]
  },
  {
   "cell_type": "code",
   "execution_count": null,
   "id": "397684cb",
   "metadata": {
    "tags": []
   },
   "outputs": [],
   "source": []
  },
  {
   "cell_type": "code",
   "execution_count": 12,
   "id": "2984f770",
   "metadata": {},
   "outputs": [],
   "source": [
    "# Prections for the Test Set"
   ]
  },
  {
   "cell_type": "code",
   "execution_count": 13,
   "id": "786ec9b1",
   "metadata": {},
   "outputs": [],
   "source": [
    "predictions = knn1.predict(X=X_test)"
   ]
  },
  {
   "cell_type": "code",
   "execution_count": 14,
   "id": "b3caed1b",
   "metadata": {},
   "outputs": [],
   "source": [
    "import numpy"
   ]
  },
  {
   "cell_type": "code",
   "execution_count": 15,
   "id": "dd22e0c5",
   "metadata": {},
   "outputs": [],
   "source": [
    "actuals = numpy.array(y_test)"
   ]
  },
  {
   "cell_type": "code",
   "execution_count": 16,
   "id": "0356758e",
   "metadata": {
    "tags": []
   },
   "outputs": [
    {
     "data": {
      "text/plain": [
       "array(['2', '1', '1', '1', '1', '1', '1', '1', '2', '1', '1', '2', '1',\n",
       "       '1', '1', '2', '1', '1', '2', '2'], dtype=object)"
      ]
     },
     "execution_count": 16,
     "metadata": {},
     "output_type": "execute_result"
    }
   ],
   "source": [
    "predictions[:20]"
   ]
  },
  {
   "cell_type": "code",
   "execution_count": 17,
   "id": "8a725de8",
   "metadata": {
    "tags": []
   },
   "outputs": [
    {
     "data": {
      "text/plain": [
       "array(['2', '1', '2', '1', '1', '2', '1', '1', '2', '1', '1', '2', '1',\n",
       "       '1', '1', '2', '1', '1', '2', '2', '1', '1', '1', '2', '1', '2',\n",
       "       '1', '1', '1', '1', '2', '1', '2', '1', '1', '1', '1', '1', '1',\n",
       "       '1', '1', '2', '1', '2', '2', '1', '1', '1', '2', '1', '1', '2',\n",
       "       '1', '1', '1', '1', '1', '1', '1', '2', '1', '1', '2', '1', '1',\n",
       "       '1', '1', '1', '1', '1', '1', '1', '1', '2', '2', '1', '1', '2',\n",
       "       '2', '1', '1', '1', '2', '1', '1', '1', '1', '1', '1', '1', '1',\n",
       "       '1', '1', '1', '2', '2', '2', '2', '1', '1', '1', '1', '1', '1',\n",
       "       '1', '1', '1', '1', '1', '2', '1', '1', '2', '1', '1', '2', '1',\n",
       "       '2', '1', '2', '1', '1', '1', '1', '2', '1', '1', '1', '1', '2',\n",
       "       '2', '1', '1', '1', '1', '2', '1', '2', '2', '2', '1', '1', '1',\n",
       "       '1', '2', '1', '1', '1', '2', '1', '1', '1', '2', '1', '1', '1',\n",
       "       '1', '1', '2', '1', '2', '2', '1', '2', '1', '1', '1', '1', '1',\n",
       "       '1', '1', '1', '1', '2', '2', '1', '1', '1', '1', '1', '1', '2',\n",
       "       '1', '2', '2', '1', '1', '2', '2', '1', '1', '1', '1', '2', '2',\n",
       "       '2', '1', '1', '1', '2', '1', '1', '2', '1', '2', '1', '1', '2',\n",
       "       '1', '1', '1', '1', '2', '2', '2', '1', '1', '1', '2', '1', '1',\n",
       "       '1', '2', '1', '1', '1', '2', '1', '2', '1', '1', '1', '1', '2',\n",
       "       '2', '1', '1', '1', '2', '1', '1', '1', '1', '1', '2', '2', '1',\n",
       "       '2', '1', '1', '1', '2', '1', '1', '2', '1', '2', '1', '2', '2',\n",
       "       '2', '1', '1', '1'], dtype=object)"
      ]
     },
     "execution_count": 17,
     "metadata": {},
     "output_type": "execute_result"
    }
   ],
   "source": [
    "actuals"
   ]
  },
  {
   "cell_type": "code",
   "execution_count": 18,
   "id": "f868a413",
   "metadata": {
    "tags": []
   },
   "outputs": [
    {
     "data": {
      "text/plain": [
       "array(['2', '1', '2', '1', '1', '2', '1', '1', '2', '1', '1', '2', '1',\n",
       "       '1', '1', '2', '1', '1', '2', '2'], dtype=object)"
      ]
     },
     "execution_count": 18,
     "metadata": {},
     "output_type": "execute_result"
    }
   ],
   "source": [
    "actuals[:20]"
   ]
  },
  {
   "cell_type": "code",
   "execution_count": 19,
   "id": "9ef61b3b",
   "metadata": {},
   "outputs": [],
   "source": [
    "wrong = [(p,e) for (p,e) in zip(predictions, actuals) if p!=e]"
   ]
  },
  {
   "cell_type": "code",
   "execution_count": 20,
   "id": "f06f44b7",
   "metadata": {},
   "outputs": [
    {
     "data": {
      "text/plain": [
       "55"
      ]
     },
     "execution_count": 20,
     "metadata": {},
     "output_type": "execute_result"
    }
   ],
   "source": [
    "len(wrong)"
   ]
  },
  {
   "cell_type": "code",
   "execution_count": 21,
   "id": "b6269693",
   "metadata": {},
   "outputs": [
    {
     "data": {
      "text/plain": [
       "264"
      ]
     },
     "execution_count": 21,
     "metadata": {},
     "output_type": "execute_result"
    }
   ],
   "source": [
    "len(actuals)"
   ]
  },
  {
   "cell_type": "code",
   "execution_count": 22,
   "id": "c8fdac1f",
   "metadata": {},
   "outputs": [
    {
     "data": {
      "text/plain": [
       "0.20833333333333334"
      ]
     },
     "execution_count": 22,
     "metadata": {},
     "output_type": "execute_result"
    }
   ],
   "source": [
    "55/264"
   ]
  },
  {
   "cell_type": "code",
   "execution_count": 23,
   "id": "b984f6d1",
   "metadata": {},
   "outputs": [
    {
     "name": "stdout",
     "output_type": "stream",
     "text": [
      "79.17%\n"
     ]
    }
   ],
   "source": [
    "print(f'{knn1.score(X_test,y_test):.2%}')"
   ]
  },
  {
   "cell_type": "code",
   "execution_count": null,
   "id": "dfabbed6",
   "metadata": {
    "tags": []
   },
   "outputs": [],
   "source": []
  },
  {
   "cell_type": "code",
   "execution_count": 24,
   "id": "47ad3ac2",
   "metadata": {},
   "outputs": [],
   "source": [
    "#Form a Confusion Matrix"
   ]
  },
  {
   "cell_type": "code",
   "execution_count": 25,
   "id": "6568dc44",
   "metadata": {},
   "outputs": [],
   "source": [
    "from sklearn.metrics import confusion_matrix"
   ]
  },
  {
   "cell_type": "code",
   "execution_count": 26,
   "id": "2e873a51",
   "metadata": {},
   "outputs": [],
   "source": [
    "confusion = confusion_matrix(y_true=actuals,y_pred=predictions)"
   ]
  },
  {
   "cell_type": "code",
   "execution_count": 27,
   "id": "0136bf97",
   "metadata": {},
   "outputs": [
    {
     "data": {
      "text/plain": [
       "array([[153,  31],\n",
       "       [ 24,  56]], dtype=int64)"
      ]
     },
     "execution_count": 27,
     "metadata": {},
     "output_type": "execute_result"
    }
   ],
   "source": [
    "confusion"
   ]
  },
  {
   "cell_type": "code",
   "execution_count": null,
   "id": "13c9192e",
   "metadata": {},
   "outputs": [],
   "source": []
  },
  {
   "cell_type": "code",
   "execution_count": 28,
   "id": "f0d3e895",
   "metadata": {},
   "outputs": [],
   "source": [
    "#Create a Classification Report"
   ]
  },
  {
   "cell_type": "code",
   "execution_count": 29,
   "id": "2ed45958",
   "metadata": {},
   "outputs": [],
   "source": [
    "from sklearn.metrics import classification_report"
   ]
  },
  {
   "cell_type": "code",
   "execution_count": 30,
   "id": "6f93fc45",
   "metadata": {},
   "outputs": [],
   "source": [
    "names1 = [str(biodeg) for biodeg in biodegs.target_names]"
   ]
  },
  {
   "cell_type": "code",
   "execution_count": 31,
   "id": "b3cf2127",
   "metadata": {},
   "outputs": [
    {
     "name": "stdout",
     "output_type": "stream",
     "text": [
      "              precision    recall  f1-score   support\n",
      "\n",
      "           1       0.86      0.83      0.85       184\n",
      "           2       0.64      0.70      0.67        80\n",
      "\n",
      "    accuracy                           0.79       264\n",
      "   macro avg       0.75      0.77      0.76       264\n",
      "weighted avg       0.80      0.79      0.79       264\n",
      "\n"
     ]
    }
   ],
   "source": [
    "print(classification_report(actuals,predictions))"
   ]
  },
  {
   "cell_type": "code",
   "execution_count": null,
   "id": "019cae81",
   "metadata": {},
   "outputs": [],
   "source": []
  },
  {
   "cell_type": "code",
   "execution_count": 32,
   "id": "f430908e",
   "metadata": {},
   "outputs": [],
   "source": [
    "# Heatmap Attempt"
   ]
  },
  {
   "cell_type": "code",
   "execution_count": 33,
   "id": "6f5b9cad",
   "metadata": {},
   "outputs": [],
   "source": [
    "confusion_df = pandas.DataFrame(confusion, index=range(2),\n",
    "                                columns = range(2))"
   ]
  },
  {
   "cell_type": "code",
   "execution_count": 34,
   "id": "a28216f6",
   "metadata": {},
   "outputs": [],
   "source": [
    "import seaborn as sns"
   ]
  },
  {
   "cell_type": "code",
   "execution_count": 35,
   "id": "6f06f494",
   "metadata": {},
   "outputs": [
    {
     "data": {
      "image/png": "[encoded data removed]",
      "text/plain": [
       "<Figure size 432x288 with 2 Axes>"
      ]
     },
     "metadata": {
      "needs_background": "light"
     },
     "output_type": "display_data"
    }
   ],
   "source": [
    "axes = sns.heatmap(confusion_df,annot=True)"
   ]
  },
  {
   "cell_type": "code",
   "execution_count": null,
   "id": "649558da",
   "metadata": {
    "tags": []
   },
   "outputs": [],
   "source": []
  },
  {
   "cell_type": "code",
   "execution_count": 36,
   "id": "a75d0505",
   "metadata": {},
   "outputs": [],
   "source": [
    "# Implement K-Fold Crossvalidation"
   ]
  },
  {
   "cell_type": "code",
   "execution_count": 37,
   "id": "bf628fe7",
   "metadata": {},
   "outputs": [],
   "source": [
    "from sklearn.model_selection import KFold"
   ]
  },
  {
   "cell_type": "code",
   "execution_count": 38,
   "id": "a5d81b68",
   "metadata": {},
   "outputs": [],
   "source": [
    "kfold = KFold(n_splits=10,random_state=11,shuffle = True)"
   ]
  },
  {
   "cell_type": "code",
   "execution_count": 39,
   "id": "65fbc25e",
   "metadata": {},
   "outputs": [],
   "source": [
    "from sklearn.model_selection import cross_val_score"
   ]
  },
  {
   "cell_type": "code",
   "execution_count": 40,
   "id": "0e3fedf0",
   "metadata": {},
   "outputs": [],
   "source": [
    "scores = cross_val_score(estimator=knn1, X=biodegs.data, y = biodegs.target, cv = kfold)"
   ]
  },
  {
   "cell_type": "code",
   "execution_count": 41,
   "id": "2055c21d",
   "metadata": {},
   "outputs": [
    {
     "data": {
      "text/plain": [
       "array([0.81132075, 0.79245283, 0.83962264, 0.90566038, 0.77358491,\n",
       "       0.79047619, 0.85714286, 0.77142857, 0.81904762, 0.81904762])"
      ]
     },
     "execution_count": 41,
     "metadata": {},
     "output_type": "execute_result"
    }
   ],
   "source": [
    "scores"
   ]
  },
  {
   "cell_type": "code",
   "execution_count": 42,
   "id": "de7fa2e0",
   "metadata": {},
   "outputs": [
    {
     "name": "stdout",
     "output_type": "stream",
     "text": [
      "Mean accuracy: 81.80%\n"
     ]
    }
   ],
   "source": [
    "print(f'Mean accuracy: {scores.mean():.2%}')"
   ]
  },
  {
   "cell_type": "code",
   "execution_count": null,
   "id": "ccb7f4f1",
   "metadata": {
    "tags": []
   },
   "outputs": [],
   "source": []
  },
  {
   "cell_type": "code",
   "execution_count": 43,
   "id": "b1b75e10",
   "metadata": {},
   "outputs": [],
   "source": [
    "# Testing with Different Estimators"
   ]
  },
  {
   "cell_type": "code",
   "execution_count": 67,
   "id": "7c6ff361",
   "metadata": {},
   "outputs": [],
   "source": [
    "from sklearn.svm import SVC\n",
    "from sklearn.naive_bayes import GaussianNB\n",
    "from sklearn.linear_model import SGDClassifier\n",
    "from sklearn.neighbors import NearestCentroid\n",
    "from sklearn import linear_model\n",
    "from sklearn.neural_network import MLPClassifier"
   ]
  },
  {
   "cell_type": "code",
   "execution_count": 68,
   "id": "9f243ffa",
   "metadata": {},
   "outputs": [],
   "source": [
    "estimators = {\n",
    "    'KNeighborsClassifier': knn1,\n",
    "    'SVC': SVC(gamma = 'scale'),\n",
    "    'GaussianNB': GaussianNB(),\n",
    "    'SGD Classifier':SGDClassifier(),\n",
    "    'Nearest Centroid':NearestCentroid(),\n",
    "    'Ridge Classification':linear_model.RidgeCV(),\n",
    "    'Neural Network':MLPClassifier()}"
   ]
  },
  {
   "cell_type": "code",
   "execution_count": 69,
   "id": "f73e55c0",
   "metadata": {
    "tags": []
   },
   "outputs": [
    {
     "name": "stdout",
     "output_type": "stream",
     "text": [
      "KNeighborsClassifier:mean accuracy = 81.81%; standard deviation = 3.54%\n",
      "                 SVC:mean accuracy = 81.89%; standard deviation = 2.20%\n",
      "          GaussianNB:mean accuracy = 71.57%; standard deviation = 4.33%\n",
      "      SGD Classifier:mean accuracy = 78.78%; standard deviation = 6.51%\n",
      "    Nearest Centroid:mean accuracy = 65.22%; standard deviation = 4.68%\n",
      "Ridge Classification:mean accuracy = 43.27%; standard deviation = 9.96%\n"
     ]
    },
    {
     "name": "stderr",
     "output_type": "stream",
     "text": [
      "D:\\anaconda3\\lib\\site-packages\\sklearn\\neural_network\\_multilayer_perceptron.py:614: ConvergenceWarning: Stochastic Optimizer: Maximum iterations (200) reached and the optimization hasn't converged yet.\n",
      "  warnings.warn(\n",
      "D:\\anaconda3\\lib\\site-packages\\sklearn\\neural_network\\_multilayer_perceptron.py:614: ConvergenceWarning: Stochastic Optimizer: Maximum iterations (200) reached and the optimization hasn't converged yet.\n",
      "  warnings.warn(\n",
      "D:\\anaconda3\\lib\\site-packages\\sklearn\\neural_network\\_multilayer_perceptron.py:614: ConvergenceWarning: Stochastic Optimizer: Maximum iterations (200) reached and the optimization hasn't converged yet.\n",
      "  warnings.warn(\n",
      "D:\\anaconda3\\lib\\site-packages\\sklearn\\neural_network\\_multilayer_perceptron.py:614: ConvergenceWarning: Stochastic Optimizer: Maximum iterations (200) reached and the optimization hasn't converged yet.\n",
      "  warnings.warn(\n",
      "D:\\anaconda3\\lib\\site-packages\\sklearn\\neural_network\\_multilayer_perceptron.py:614: ConvergenceWarning: Stochastic Optimizer: Maximum iterations (200) reached and the optimization hasn't converged yet.\n",
      "  warnings.warn(\n",
      "D:\\anaconda3\\lib\\site-packages\\sklearn\\neural_network\\_multilayer_perceptron.py:614: ConvergenceWarning: Stochastic Optimizer: Maximum iterations (200) reached and the optimization hasn't converged yet.\n",
      "  warnings.warn(\n",
      "D:\\anaconda3\\lib\\site-packages\\sklearn\\neural_network\\_multilayer_perceptron.py:614: ConvergenceWarning: Stochastic Optimizer: Maximum iterations (200) reached and the optimization hasn't converged yet.\n",
      "  warnings.warn(\n",
      "D:\\anaconda3\\lib\\site-packages\\sklearn\\neural_network\\_multilayer_perceptron.py:614: ConvergenceWarning: Stochastic Optimizer: Maximum iterations (200) reached and the optimization hasn't converged yet.\n",
      "  warnings.warn(\n"
     ]
    },
    {
     "name": "stdout",
     "output_type": "stream",
     "text": [
      "      Neural Network:mean accuracy = 87.21%; standard deviation = 2.53%\n"
     ]
    },
    {
     "name": "stderr",
     "output_type": "stream",
     "text": [
      "D:\\anaconda3\\lib\\site-packages\\sklearn\\neural_network\\_multilayer_perceptron.py:614: ConvergenceWarning: Stochastic Optimizer: Maximum iterations (200) reached and the optimization hasn't converged yet.\n",
      "  warnings.warn(\n"
     ]
    }
   ],
   "source": [
    "for estimator_name, estimator_object in estimators.items():\n",
    "    kfold = KFold(n_splits=10, random_state =20, shuffle = True)\n",
    "    scores = cross_val_score(estimator=estimator_object, X=biodegs.data, y=biodegs.target, cv=kfold)\n",
    "    print(f'{estimator_name:>20}:' +\n",
    "          f'mean accuracy = {scores.mean():.2%}; ' +\n",
    "          f'standard deviation = {scores.std():.2%}')"
   ]
  },
  {
   "cell_type": "code",
   "execution_count": null,
   "id": "858ce132",
   "metadata": {},
   "outputs": [],
   "source": []
  },
  {
   "cell_type": "code",
   "execution_count": 70,
   "id": "63d67c93",
   "metadata": {},
   "outputs": [],
   "source": [
    "# Tuning one of the Hyperparameters of KNN (k)"
   ]
  },
  {
   "cell_type": "code",
   "execution_count": 71,
   "id": "fc43b59b",
   "metadata": {},
   "outputs": [
    {
     "name": "stdout",
     "output_type": "stream",
     "text": [
      "k1 ; mean accuracy = 78.97%; standard deviation = 3.10%\n",
      "k3 ; mean accuracy = 82.09%; standard deviation = 2.66%\n",
      "k5 ; mean accuracy = 81.81%; standard deviation = 3.54%\n",
      "k7 ; mean accuracy = 82.19%; standard deviation = 3.92%\n",
      "k9 ; mean accuracy = 82.00%; standard deviation = 3.68%\n",
      "k11; mean accuracy = 80.67%; standard deviation = 3.49%\n",
      "k13; mean accuracy = 80.48%; standard deviation = 3.60%\n",
      "k15; mean accuracy = 80.10%; standard deviation = 3.78%\n",
      "k17; mean accuracy = 79.63%; standard deviation = 3.87%\n",
      "k19; mean accuracy = 79.15%; standard deviation = 3.64%\n"
     ]
    }
   ],
   "source": [
    "for k in range (1,20,2):\n",
    "    kfold = KFold(n_splits=10, random_state =20, shuffle = True)\n",
    "    knn1 = KNeighborsClassifier(n_neighbors=k)\n",
    "    scores = cross_val_score(estimator=knn1,\n",
    "                            X=biodegs.data, y=biodegs.target, cv=kfold)\n",
    "    print(f'k{k:<2}; mean accuracy = {scores.mean():.2%}; ' +\n",
    "         f'standard deviation = {scores.std():.2%}')"
   ]
  },
  {
   "cell_type": "code",
   "execution_count": null,
   "id": "09377436",
   "metadata": {},
   "outputs": [],
   "source": []
  },
  {
   "cell_type": "code",
   "execution_count": 72,
   "id": "efe6abcc",
   "metadata": {},
   "outputs": [],
   "source": [
    "# Changing around the Defaults of Neural Network Implementation"
   ]
  },
  {
   "cell_type": "code",
   "execution_count": 83,
   "id": "2b015f88",
   "metadata": {
    "collapsed": true,
    "jupyter": {
     "outputs_hidden": true
    },
    "tags": []
   },
   "outputs": [
    {
     "name": "stderr",
     "output_type": "stream",
     "text": [
      "D:\\anaconda3\\lib\\site-packages\\sklearn\\neural_network\\_multilayer_perceptron.py:614: ConvergenceWarning: Stochastic Optimizer: Maximum iterations (200) reached and the optimization hasn't converged yet.\n",
      "  warnings.warn(\n",
      "D:\\anaconda3\\lib\\site-packages\\sklearn\\neural_network\\_multilayer_perceptron.py:614: ConvergenceWarning: Stochastic Optimizer: Maximum iterations (200) reached and the optimization hasn't converged yet.\n",
      "  warnings.warn(\n",
      "D:\\anaconda3\\lib\\site-packages\\sklearn\\neural_network\\_multilayer_perceptron.py:614: ConvergenceWarning: Stochastic Optimizer: Maximum iterations (200) reached and the optimization hasn't converged yet.\n",
      "  warnings.warn(\n",
      "D:\\anaconda3\\lib\\site-packages\\sklearn\\neural_network\\_multilayer_perceptron.py:614: ConvergenceWarning: Stochastic Optimizer: Maximum iterations (200) reached and the optimization hasn't converged yet.\n",
      "  warnings.warn(\n",
      "D:\\anaconda3\\lib\\site-packages\\sklearn\\neural_network\\_multilayer_perceptron.py:614: ConvergenceWarning: Stochastic Optimizer: Maximum iterations (200) reached and the optimization hasn't converged yet.\n",
      "  warnings.warn(\n",
      "D:\\anaconda3\\lib\\site-packages\\sklearn\\neural_network\\_multilayer_perceptron.py:614: ConvergenceWarning: Stochastic Optimizer: Maximum iterations (200) reached and the optimization hasn't converged yet.\n",
      "  warnings.warn(\n",
      "D:\\anaconda3\\lib\\site-packages\\sklearn\\neural_network\\_multilayer_perceptron.py:614: ConvergenceWarning: Stochastic Optimizer: Maximum iterations (200) reached and the optimization hasn't converged yet.\n",
      "  warnings.warn(\n"
     ]
    },
    {
     "name": "stdout",
     "output_type": "stream",
     "text": [
      "k19; mean accuracy = 87.48%; standard deviation = 2.09%\n"
     ]
    },
    {
     "name": "stderr",
     "output_type": "stream",
     "text": [
      "D:\\anaconda3\\lib\\site-packages\\sklearn\\neural_network\\_multilayer_perceptron.py:614: ConvergenceWarning: Stochastic Optimizer: Maximum iterations (200) reached and the optimization hasn't converged yet.\n",
      "  warnings.warn(\n"
     ]
    }
   ],
   "source": [
    "kfold = KFold(n_splits=10, random_state =20, shuffle = True)\n",
    "scores = cross_val_score(estimator=MLPClassifier( ),\n",
    "                        X=biodegs.data, y=biodegs.target, cv=kfold)\n",
    "print(f'k{k:<2}; mean accuracy = {scores.mean():.2%}; ' +\n",
    "     f'standard deviation = {scores.std():.2%}')"
   ]
  },
  {
   "cell_type": "code",
   "execution_count": null,
   "id": "21fb8d02",
   "metadata": {},
   "outputs": [],
   "source": []
  }
 ],
 "metadata": {
  "kernelspec": {
   "display_name": "Python 3",
   "language": "python",
   "name": "python3"
  },
  "language_info": {
   "codemirror_mode": {
    "name": "ipython",
    "version": 3
   },
   "file_extension": ".py",
   "mimetype": "text/x-python",
   "name": "python",
   "nbconvert_exporter": "python",
   "pygments_lexer": "ipython3",
   "version": "3.8.8"
  }
 },
 "nbformat": 4,
 "nbformat_minor": 5
}
